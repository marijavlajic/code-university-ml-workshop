{
 "cells": [
  {
   "cell_type": "code",
   "execution_count": null,
   "metadata": {
    "collapsed": false
   },
   "outputs": [],
   "source": [
    "# plotting\n",
    "%matplotlib inline\n",
    "import matplotlib.pyplot as plt\n",
    "import matplotlib as mpl\n",
    "\n",
    "# data visualization\n",
    "import seaborn as sns\n",
    "from helper_functions import plot_setup\n",
    "sns.set_style('white')\n",
    "plot_setup()\n",
    "\n",
    "# data analysis\n",
    "import pandas as pd\n",
    "\n",
    "# data mining & ML\n",
    "from sklearn import preprocessing\n",
    "\n",
    "import warnings\n",
    "warnings.filterwarnings('ignore')"
   ]
  },
  {
   "cell_type": "markdown",
   "metadata": {},
   "source": [
    "# Getting Started with the Data"
   ]
  },
  {
   "cell_type": "markdown",
   "metadata": {},
   "source": [
    "We will be working with the [Titanic Dataset](http://biostat.mc.vanderbilt.edu/wiki/pub/Main/DataSets/titanic.html).\n",
    "\n",
    "### Some Background before you Start\n",
    "\n",
    "\"The sinking of the RMS Titanic is one of the most infamous shipwrecks in history. On April 15, 1912, during her maiden voyage, the Titanic sank after colliding with an iceberg, killing 1502 out of 2224 passengers and crew. This sensational tragedy shocked the international community and led to better safety regulations for ships.\n",
    "\n",
    "One of the reasons that the shipwreck led to such loss of life was that there were not enough lifeboats for the passengers and crew. Although there was some element of luck involved in surviving the sinking, some groups of people were more likely to survive than others.\" -- Kaggle\n",
    "\n",
    "In this exploration, we will complete analysis to predict which factors made individuals more or less likely to survive the Titanic. We will build up predictive machine learning models that model the likelihood of survival for an individual based on various features of this person. Then we will use these models to predict the likelihood of survival for unknown people."
   ]
  },
  {
   "cell_type": "markdown",
   "metadata": {},
   "source": [
    "### Loading and Pre-processing"
   ]
  },
  {
   "cell_type": "markdown",
   "metadata": {},
   "source": [
    "Before we get started with analysis, we begin with the first part of any machine learning exploration: Loading the data and cleaning it up for analyis.\n",
    "\n",
    "Typical datasets are messy.\n",
    "* Data can be, and often is, missing.\n",
    "* Sometimes data is invalid.\n",
    "* You might have much more data available than you need.\n",
    "* You may also need to change your data types, so they are compatible with your algorithms. \n",
    "\n",
    "This is just a short set of the way that data sets in the wild can be imperfect.\n",
    "\n",
    "These datasets require preprocessing to get them into the format which a library like scikit-learn can use.\n",
    "\n",
    "#### Loading the data\n",
    "\n",
    "Let's first load our data set and take a look at some of the data to get an idea of what type of preprocessing we might need."
   ]
  },
  {
   "cell_type": "code",
   "execution_count": null,
   "metadata": {
    "collapsed": false
   },
   "outputs": [],
   "source": [
    "data_url = 'titanic.csv'\n",
    "titanic = pd.read_csv(data_url, sep = ';')"
   ]
  },
  {
   "cell_type": "code",
   "execution_count": null,
   "metadata": {
    "collapsed": false
   },
   "outputs": [],
   "source": [
    "titanic.head()"
   ]
  },
  {
   "cell_type": "markdown",
   "metadata": {},
   "source": [
    "Let's take a look at the columns in our data set.\n",
    "\n",
    "The `Survived` column is our label set (i.e. what we are trying to predict). The rest of the columns are our features."
   ]
  },
  {
   "cell_type": "code",
   "execution_count": null,
   "metadata": {
    "collapsed": false
   },
   "outputs": [],
   "source": [
    "titanic.columns.tolist()"
   ]
  },
  {
   "cell_type": "markdown",
   "metadata": {},
   "source": [
    "What the columns mean:\n",
    "\n",
    "**survived** - Survival  \n",
    "0 = No, 1 = Yes\n",
    "\n",
    "**pclass** - Ticket class (a proxy for socio-economic status)  \n",
    "1st = Upper, 2nd = Middle, 3rd = Lower\n",
    "\n",
    "**gender** - Gender  \n",
    "female, male\n",
    "\n",
    "**age** - Age in years  \n",
    "Fractional if less than 1. If the age is estimated, it is in the form of xx.5\n",
    "\n",
    "**sibsp** - # of siblings/spouses aboard the Titanic  \n",
    "Sibling = brother, sister, stepbrother, stepsister  \n",
    "Spouse = husband, wife (only official, legal wives and husbands considered)\n",
    "\n",
    "**parch** - # of parents/children aboard the Titanic  \n",
    "Parent = mother, father  \n",
    "Child = daughter, son, stepdaughter, stepson  \n",
    "Some children travelled only with a nanny, therefore parch=0 for them.\n",
    "\n",
    "**ticket** - Ticket number\n",
    "\n",
    "**fare** - Passenger fare\n",
    "\n",
    "**cabin** - Cabin number\n",
    "\n",
    "**embarked** - Port of Embarkation  \n",
    "C = Cherbourg, Q = Queenstown, S = Southampton\n",
    "\n",
    "**boat** - Lifeboat (if survived)\n",
    "\n",
    "**body** - Body number (if did not survive and body was recovered)\n",
    "\n",
    "**home.dest** - Home/destination"
   ]
  },
  {
   "cell_type": "markdown",
   "metadata": {},
   "source": [
    "Let's take another look at a small sample of the data."
   ]
  },
  {
   "cell_type": "code",
   "execution_count": null,
   "metadata": {
    "collapsed": false
   },
   "outputs": [],
   "source": [
    "titanic.head()"
   ]
  },
  {
   "cell_type": "markdown",
   "metadata": {},
   "source": [
    "#### Cleaning the Data \n",
    "\n",
    "What are some good places to start with cleaning up this data?"
   ]
  },
  {
   "cell_type": "markdown",
   "metadata": {},
   "source": [
    "1) In the `age` and `fare` columns, we see that commas are used rather than periods. We need to replace all commas in those columns with periods so we can work with them properly."
   ]
  },
  {
   "cell_type": "code",
   "execution_count": null,
   "metadata": {
    "collapsed": false
   },
   "outputs": [],
   "source": [
    "titanic[\"age\"].replace(',', '.', inplace = True, regex = True)\n",
    "titanic[\"fare\"].replace(',', '.', inplace = True, regex = True)\n",
    "\n",
    "titanic.head()"
   ]
  },
  {
   "cell_type": "markdown",
   "metadata": {},
   "source": [
    "2) When the dataset was first loaded, some of the numeric types, like `age` were actually stored and loaded as object types. We need to convert these into numeric types for scikit-learn to use. Note that python `string` data types show up as `object` in pandas.\n",
    "\n",
    "Let's see what types are in our data set and make sure they match our expectations."
   ]
  },
  {
   "cell_type": "code",
   "execution_count": null,
   "metadata": {
    "collapsed": false
   },
   "outputs": [],
   "source": [
    "for col in titanic.columns.values:\n",
    "    print(col, titanic[col].dtype)"
   ]
  },
  {
   "cell_type": "markdown",
   "metadata": {},
   "source": [
    "Which of the column types don't match the expected types?"
   ]
  },
  {
   "cell_type": "markdown",
   "metadata": {},
   "source": [
    "We expect `age` and `fare` to be numeric, but they are currently `object` types. Everything else looks as expected.\n",
    "\n",
    "Let's convert those columns."
   ]
  },
  {
   "cell_type": "code",
   "execution_count": null,
   "metadata": {
    "collapsed": false
   },
   "outputs": [],
   "source": [
    "titanic[['age', 'fare']] = titanic[['age', 'fare']].apply(pd.to_numeric)\n",
    "\n",
    "for col in titanic.columns.values:\n",
    "    print(col, titanic[col].dtype)"
   ]
  },
  {
   "cell_type": "markdown",
   "metadata": {},
   "source": [
    "**Adding Features**\n",
    "\n",
    "We don't have to just remove and reformat columns during pre-processing, though!\n",
    "\n",
    "We can also create new features that we think may be useful.\n",
    "\n",
    "The total family size of an individual could be a useful feature for us. Let's create a new feature, `family_members` out of `sibsp` (the number of siblings and spouses) and `parch` (the number of parent and children).\n",
    "\n",
    "We'll also create the `family_status` feature which tells us if an individual traveled alone or with a family."
   ]
  },
  {
   "cell_type": "code",
   "execution_count": null,
   "metadata": {
    "collapsed": false
   },
   "outputs": [],
   "source": [
    "titanic['family_members'] = titanic['sibsp'] + titanic['parch']\n",
    "\n",
    "titanic['family_status'] = 'alone'\n",
    "titanic['family_status'][titanic['family_members'] != 0] = 'with family'\n",
    "\n",
    "titanic.head()"
   ]
  },
  {
   "cell_type": "markdown",
   "metadata": {},
   "source": [
    "OK. Pre-processing done for now. Our data is ready to work well with scikit-learn and we're in a good place to move to the next step of data exploration: plotting."
   ]
  },
  {
   "cell_type": "markdown",
   "metadata": {},
   "source": [
    "# Exploring the Data"
   ]
  },
  {
   "cell_type": "markdown",
   "metadata": {},
   "source": [
    "The first step of machine learning is understanding the data that you are working with. This helps you get a sense of which features might be the most important, which algorithms make the most sense for your data, etc.\n",
    "\n",
    "What do you think might distinguish the people who survived the Titanic from the ones who didn't?\n",
    "\n",
    "Let's plot the data and see what initial insights we can get."
   ]
  },
  {
   "cell_type": "markdown",
   "metadata": {},
   "source": [
    "Let's start with **age**. How does age affect people's likelihood of survival?"
   ]
  },
  {
   "cell_type": "code",
   "execution_count": null,
   "metadata": {
    "collapsed": false
   },
   "outputs": [],
   "source": [
    "sns.distplot(a = titanic['age'][titanic['survived'] == 1].dropna(), kde_kws = {'label': 'survived'})\n",
    "sns.distplot(a = titanic['age'][titanic['survived'] == 0].dropna(), kde_kws = {'label': 'did not survive'})"
   ]
  },
  {
   "cell_type": "markdown",
   "metadata": {},
   "source": [
    "What about the **price of their ticket**?"
   ]
  },
  {
   "cell_type": "code",
   "execution_count": null,
   "metadata": {
    "collapsed": false
   },
   "outputs": [],
   "source": [
    "sns.distplot(a = titanic['fare'][titanic['survived'] == 1].dropna(), kde_kws = {'label': 'survived'})\n",
    "ax = sns.distplot(a = titanic['fare'][titanic['survived'] == 0].dropna(), kde_kws = {'label': 'did not survive'})\n",
    "ax.set(xlim = (-20, 100))"
   ]
  },
  {
   "cell_type": "markdown",
   "metadata": {},
   "source": [
    "What else could influence whether they survived? Maybe their **gender**?"
   ]
  },
  {
   "cell_type": "code",
   "execution_count": null,
   "metadata": {
    "collapsed": false
   },
   "outputs": [],
   "source": [
    "# Display counts of survivors for each gender category\n",
    "sns.countplot(data = titanic, x = 'gender', hue = 'survived')\n",
    "\n",
    "# Display percent of survivors for each gender category\n",
    "sns.factorplot('gender', 'survived', data = titanic)"
   ]
  },
  {
   "cell_type": "markdown",
   "metadata": {},
   "source": [
    "We can now look at the overall percentage of people who survived."
   ]
  },
  {
   "cell_type": "code",
   "execution_count": null,
   "metadata": {
    "collapsed": false
   },
   "outputs": [],
   "source": [
    "titanic['survived'].mean()"
   ]
  },
  {
   "cell_type": "markdown",
   "metadata": {},
   "source": [
    "As we have just seen, survival rates are very gender-dependent. These are the survival rates for men and women separately."
   ]
  },
  {
   "cell_type": "code",
   "execution_count": null,
   "metadata": {
    "collapsed": false
   },
   "outputs": [],
   "source": [
    "titanic.groupby('gender')['survived'].mean()"
   ]
  },
  {
   "cell_type": "markdown",
   "metadata": {},
   "source": [
    "Would their **passenger class** have an effect?"
   ]
  },
  {
   "cell_type": "code",
   "execution_count": null,
   "metadata": {
    "collapsed": false
   },
   "outputs": [],
   "source": [
    "# Display counts of survivors for each passenger class\n",
    "sns.countplot(data = titanic, x = 'pclass', hue = 'survived')\n",
    "\n",
    "# Display percent of survivors for each passenger class\n",
    "sns.factorplot('pclass', 'survived', data = titanic)"
   ]
  },
  {
   "cell_type": "markdown",
   "metadata": {},
   "source": [
    "These are now survival rates for each passenger class."
   ]
  },
  {
   "cell_type": "code",
   "execution_count": null,
   "metadata": {
    "collapsed": false
   },
   "outputs": [],
   "source": [
    "titanic.groupby('pclass')['survived'].mean()"
   ]
  },
  {
   "cell_type": "markdown",
   "metadata": {},
   "source": [
    "We see some strong indicators in `gender` and `pclass`.\n",
    "\n",
    "We can examine the averages of other features split on gender or pclass and see if there are any differences which stand out.\n",
    "\n",
    "_Do you notice any other features which have very different means based on gender or pclass?_"
   ]
  },
  {
   "cell_type": "code",
   "execution_count": null,
   "metadata": {
    "collapsed": false
   },
   "outputs": [],
   "source": [
    "titanic.groupby('gender').mean()"
   ]
  },
  {
   "cell_type": "code",
   "execution_count": null,
   "metadata": {
    "collapsed": false
   },
   "outputs": [],
   "source": [
    "titanic.groupby('pclass').mean()"
   ]
  },
  {
   "cell_type": "markdown",
   "metadata": {},
   "source": [
    "Now let's look at how the combination of gender and passenger class influences the survival rates."
   ]
  },
  {
   "cell_type": "code",
   "execution_count": null,
   "metadata": {
    "collapsed": false
   },
   "outputs": [],
   "source": [
    "sns.factorplot('pclass', 'survived', hue = 'gender', data = titanic.sort_values(by = 'pclass'))"
   ]
  },
  {
   "cell_type": "markdown",
   "metadata": {},
   "source": [
    "We divided people into those traveling **alone or with family**. How did that affect whether they ended up surviving?"
   ]
  },
  {
   "cell_type": "code",
   "execution_count": null,
   "metadata": {
    "collapsed": false
   },
   "outputs": [],
   "source": [
    "sns.factorplot('family_status', 'survived', hue = 'pclass', data = titanic.sort_values(by = 'family_members'))"
   ]
  },
  {
   "cell_type": "code",
   "execution_count": null,
   "metadata": {
    "collapsed": false
   },
   "outputs": [],
   "source": [
    "sns.factorplot('family_status', 'survived', hue = 'gender', data = titanic.sort_values(by = 'family_members'))"
   ]
  },
  {
   "cell_type": "markdown",
   "metadata": {},
   "source": [
    "On Your Own: Explore and plot at least one other feature or combination of features you think may be an indicator of survival rate"
   ]
  },
  {
   "cell_type": "code",
   "execution_count": null,
   "metadata": {
    "collapsed": false
   },
   "outputs": [],
   "source": [
    "### Code Here\n",
    "\n",
    "titanic.columns.values"
   ]
  },
  {
   "cell_type": "markdown",
   "metadata": {},
   "source": [
    "# Preparing the Data"
   ]
  },
  {
   "cell_type": "markdown",
   "metadata": {},
   "source": [
    "#### Removing the Columns\n",
    "\n",
    "After the initial exploration, are there any columns you think we can remove?\n",
    "\n",
    "Let's look at two options:\n",
    "\n",
    "* Columns with mostly unique values - If most values are unique, we won't be able to discover patterns and have enough information to generalize.  \n",
    "* Columns with lots of missing values - If most values are missing, we won't have enough data to get predictive power."
   ]
  },
  {
   "cell_type": "markdown",
   "metadata": {},
   "source": [
    "1) Do we have any columns with almost all unique values?"
   ]
  },
  {
   "cell_type": "code",
   "execution_count": null,
   "metadata": {
    "collapsed": false
   },
   "outputs": [],
   "source": [
    "sorted([(col, titanic[col].unique().size) for col in titanic.columns.values ], key=lambda tup: tup[1], reverse=True)"
   ]
  },
  {
   "cell_type": "markdown",
   "metadata": {},
   "source": [
    "The majority of `name` and `ticket` fields are unique. We'll drop those columns as they are unlikely to provide us much useful information."
   ]
  },
  {
   "cell_type": "code",
   "execution_count": null,
   "metadata": {
    "collapsed": true
   },
   "outputs": [],
   "source": [
    "titanic.drop(['name', 'ticket'], axis = 1, inplace = True)"
   ]
  },
  {
   "cell_type": "markdown",
   "metadata": {},
   "source": [
    "2) Do we have all values available for all passengers?"
   ]
  },
  {
   "cell_type": "code",
   "execution_count": null,
   "metadata": {
    "collapsed": false
   },
   "outputs": [],
   "source": [
    "column_counts = titanic.count()\n",
    "column_counts.sort_values(inplace=True)\n",
    "\n",
    "column_counts"
   ]
  },
  {
   "cell_type": "markdown",
   "metadata": {},
   "source": [
    "Some of the columns have significantly fewer values that others. Since machine learning models don't deal with missing values well, we'll remove these columns."
   ]
  },
  {
   "cell_type": "code",
   "execution_count": null,
   "metadata": {
    "collapsed": true
   },
   "outputs": [],
   "source": [
    "titanic.drop(['cabin', 'boat', 'body', 'home.dest'], axis = 1, inplace = True)"
   ]
  },
  {
   "cell_type": "markdown",
   "metadata": {},
   "source": [
    "Now age is the column remaining with most missing values. Because we saw that age influences survival rates some, we don't want to exclude the age, so we'll just remove all of the missing values in the rest of the dataframe."
   ]
  },
  {
   "cell_type": "code",
   "execution_count": null,
   "metadata": {
    "collapsed": false
   },
   "outputs": [],
   "source": [
    "titanic.dropna(inplace = True)"
   ]
  },
  {
   "cell_type": "markdown",
   "metadata": {},
   "source": [
    "And now instead of 1309, we have 1043 rows. We lost about 20% of the data which isn't ideal, but also not that bad."
   ]
  },
  {
   "cell_type": "code",
   "execution_count": null,
   "metadata": {
    "collapsed": false
   },
   "outputs": [],
   "source": [
    "titanic.count()"
   ]
  },
  {
   "cell_type": "markdown",
   "metadata": {},
   "source": [
    "Let's look at what kind of data we have left in the dataframe. "
   ]
  },
  {
   "cell_type": "code",
   "execution_count": null,
   "metadata": {
    "collapsed": false
   },
   "outputs": [],
   "source": [
    "titanic.head()"
   ]
  },
  {
   "cell_type": "markdown",
   "metadata": {},
   "source": [
    "#### Different Data Types & Encoding\n",
    "\n",
    "There are three different types of data: numerical, categorical, and ordinal.\n",
    "\n",
    "*Numerical data* types of typically measurements and also refered to as quantitative data.\n",
    "\n",
    "*Categorical data* represents characteristics. They can take on numerical values (e.g. 0 for Female and 1 for Male), but these numerical values don't have a mathematical sense. They can't be added together for example.\n",
    "\n",
    "*Ordinal data* represents a mix of categorical and numerical data. The data falls into categories, but the numbers have mathematical meaning and they can be placed in an order. Star ratings (e.g. 0 - 5) are an example of ordinal data.\n",
    "\n",
    "In our data set we have numerical and categorical data.\n",
    "\n",
    "`age` and `fare` are examples of numerical data from our data set.\n",
    "\n",
    "`pclass` is an example of categorical data. It uses a numerical value, though, taking values 1, 2, and 3.\n",
    "`gender` is also categorical. Right now it is a string, but it refers to a category (Female or Male).\n",
    "`embarked` and `family_status` are also these variables.\n",
    "\n",
    "Machine learning models can work with numerical data with little change. However, in order for these models to work with categorical data properly, we need to encode them as numerical values. "
   ]
  },
  {
   "cell_type": "markdown",
   "metadata": {},
   "source": [
    "We will use the [`LabelEncoder`](http://scikit-learn.org/stable/modules/generated/sklearn.preprocessing.LabelEncoder.html) from `sklearn`.\n",
    "\n",
    "This encoder converts string categorical data into numerical values, which sklearn can use, using a method which you don't need to worry about now called [One-Hot encoding](http://scikit-learn.org/stable/modules/generated/sklearn.preprocessing.OneHotEncoder.html)."
   ]
  },
  {
   "cell_type": "code",
   "execution_count": null,
   "metadata": {
    "collapsed": false
   },
   "outputs": [],
   "source": [
    "label_encoder = preprocessing.LabelEncoder()\n",
    "\n",
    "titanic['gender'] = label_encoder.fit_transform(titanic['gender'])\n",
    "titanic['embarked'] = label_encoder.fit_transform(titanic['embarked'])\n",
    "titanic['family_status'] = label_encoder.fit_transform(titanic['family_status'])"
   ]
  },
  {
   "cell_type": "code",
   "execution_count": null,
   "metadata": {
    "collapsed": false
   },
   "outputs": [],
   "source": [
    "titanic.head()"
   ]
  },
  {
   "cell_type": "markdown",
   "metadata": {},
   "source": [
    "Look how clean our data set is. It's ready for use in our models. Let's save this cleaned data set for later use."
   ]
  },
  {
   "cell_type": "code",
   "execution_count": null,
   "metadata": {
    "collapsed": true
   },
   "outputs": [],
   "source": [
    "titanic.to_csv('titanic_processed.csv', index = False)"
   ]
  },
  {
   "cell_type": "markdown",
   "metadata": {},
   "source": [
    "Remember, cleaning data is a critical part of machine learning. It can take a while, but it's incredibly important. Real data is messy, and it takes some systematic run throughs of your data to get it to a good state to start working with models and algorithms."
   ]
  }
 ],
 "metadata": {
  "anaconda-cloud": {},
  "kernelspec": {
   "display_name": "Python 3",
   "language": "python",
   "name": "python3"
  },
  "language_info": {
   "codemirror_mode": {
    "name": "ipython",
    "version": 3
   },
   "file_extension": ".py",
   "mimetype": "text/x-python",
   "name": "python",
   "nbconvert_exporter": "python",
   "pygments_lexer": "ipython3",
   "version": "3.4.5"
  }
 },
 "nbformat": 4,
 "nbformat_minor": 1
}
